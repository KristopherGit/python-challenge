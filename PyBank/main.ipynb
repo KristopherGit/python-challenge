{
 "cells": [
  {
   "cell_type": "code",
   "execution_count": 2,
   "id": "40fe5fcb-842c-4402-ae20-e4fb73d3b158",
   "metadata": {},
   "outputs": [],
   "source": [
    "#Module-2-Challenge\n",
    "#python-challenge"
   ]
  },
  {
   "cell_type": "code",
   "execution_count": 208,
   "id": "4358b402-95a0-4a7d-8cba-e4b66b0dcacf",
   "metadata": {},
   "outputs": [],
   "source": [
    "#Import libraries, modules and dependencies\n",
    "import os\n",
    "import csv\n",
    "import numpy as pb\n",
    "import pandas as pd\n",
    "from pathlib import Path"
   ]
  },
  {
   "cell_type": "code",
   "execution_count": 6,
   "id": "1aad34c5-e89a-41d3-b42c-defadd8d84bf",
   "metadata": {},
   "outputs": [],
   "source": [
    "#Set filepath to .csv\n",
    "file_path = Path(\"../Resources/budget_data.csv\")"
   ]
  },
  {
   "cell_type": "code",
   "execution_count": null,
   "id": "5168aff2-5fe5-4f07-b8cc-ca84908f952c",
   "metadata": {},
   "outputs": [],
   "source": [
    "#Initialize empty dictionary variable to hold Date and PNL\n",
    "pnl = {}\n",
    "print(pnl)"
   ]
  },
  {
   "cell_type": "code",
   "execution_count": 206,
   "id": "e595d96c-2dfe-4103-8df9-80a83ae76209",
   "metadata": {},
   "outputs": [
    {
     "name": "stdout",
     "output_type": "stream",
     "text": [
      "<class '_io.TextIOWrapper'>\n",
      "<class '_csv.reader'>\n",
      "['Date', 'Profit/Losses'] <----- Header\n",
      "<class 'dict'>\n",
      "<class 'builtin_function_or_method'>\n",
      "{'Jan-2010': 867884.0, 'Feb-2010': 984655.0, 'Mar-2010': 322013.0, 'Apr-2010': -69417.0, 'May-2010': 310503.0, 'Jun-2010': 522857.0, 'Jul-2010': 1033096.0, 'Aug-2010': 604885.0, 'Sep-2010': -216386.0, 'Oct-2010': 477532.0, 'Nov-2010': 893810.0, 'Dec-2010': -80353.0, 'Jan-2011': 779806.0, 'Feb-2011': -335203.0, 'Mar-2011': 697845.0, 'Apr-2011': 793163.0, 'May-2011': 485070.0, 'Jun-2011': 584122.0, 'Jul-2011': 62729.0, 'Aug-2011': 668179.0, 'Sep-2011': 899906.0, 'Oct-2011': 834719.0, 'Nov-2011': 132003.0, 'Dec-2011': 309978.0, 'Jan-2012': -755566.0, 'Feb-2012': 1170593.0, 'Mar-2012': 252788.0, 'Apr-2012': 1151518.0, 'May-2012': 817256.0, 'Jun-2012': 570757.0, 'Jul-2012': 506702.0, 'Aug-2012': -1022534.0, 'Sep-2012': 475062.0, 'Oct-2012': 779976.0, 'Nov-2012': 144175.0, 'Dec-2012': 542494.0, 'Jan-2013': 359333.0, 'Feb-2013': 321469.0, 'Mar-2013': 67780.0, 'Apr-2013': 471435.0, 'May-2013': 565603.0, 'Jun-2013': 872480.0, 'Jul-2013': 789480.0, 'Aug-2013': 999942.0, 'Sep-2013': -1196225.0, 'Oct-2013': 268997.0, 'Nov-2013': -687986.0, 'Dec-2013': 1150461.0, 'Jan-2014': 682458.0, 'Feb-2014': 617856.0, 'Mar-2014': 824098.0, 'Apr-2014': 581943.0, 'May-2014': 132864.0, 'Jun-2014': 448062.0, 'Jul-2014': 689161.0, 'Aug-2014': 800701.0, 'Sep-2014': 1166643.0, 'Oct-2014': 947333.0, 'Nov-2014': 578668.0, 'Dec-2014': 988505.0, 'Jan-2015': 1139715.0, 'Feb-2015': 1029471.0, 'Mar-2015': 687533.0, 'Apr-2015': -524626.0, 'May-2015': 158620.0, 'Jun-2015': 87795.0, 'Jul-2015': 423389.0, 'Aug-2015': 840723.0, 'Sep-2015': 568529.0, 'Oct-2015': 332067.0, 'Nov-2015': 989499.0, 'Dec-2015': 778237.0, 'Jan-2016': 650000.0, 'Feb-2016': -1100387.0, 'Mar-2016': -174946.0, 'Apr-2016': 757143.0, 'May-2016': 445709.0, 'Jun-2016': 712961.0, 'Jul-2016': -1163797.0, 'Aug-2016': 569899.0, 'Sep-2016': 768450.0, 'Oct-2016': 102685.0, 'Nov-2016': 795914.0, 'Dec-2016': 60988.0, 'Jan-2017': 138230.0, 'Feb-2017': 671099.0}\n"
     ]
    }
   ],
   "source": [
    "#Open the csv file, print() its content types, and transfer csv data to pnl dictionary as key/value pairs\n",
    "with open(file_path) as csv_file:\n",
    "    print(type(csv_file))\n",
    "    csvreader = csv.reader(csv_file, delimiter=',')\n",
    "    print(type(csvreader))\n",
    "    header = next(csvreader)\n",
    "    print(f\"{header} <----- Header\")\n",
    "    \n",
    "    #Populate the empty pnl dict ref variable with csvreader data\n",
    "    pnl = {rows[0]:rows[1] for rows in csvreader}\n",
    "    \n",
    "    #Convert values from 'string' to 'float' type variables\n",
    "    for k, v in pnl.items():\n",
    "        pnl[k] = float(v)\n",
    "        \n",
    "    print(type(pnl))\n",
    "    print(type(pnl.values))\n",
    "    #for i in pnl.values():\n",
    "    #   print(type(i))\n",
    "    print(pnl)"
   ]
  },
  {
   "cell_type": "code",
   "execution_count": 126,
   "id": "97b80cb7-0b34-4f76-840a-1306f53de7e1",
   "metadata": {
    "tags": []
   },
   "outputs": [
    {
     "name": "stdout",
     "output_type": "stream",
     "text": [
      "86\n"
     ]
    }
   ],
   "source": [
    "#Count the total number of months included in the csv dataset\n",
    "pnl_months_count = len(pnl.keys())\n",
    "print(pnl_months_count)"
   ]
  },
  {
   "cell_type": "code",
   "execution_count": 127,
   "id": "0f620b18-1869-46eb-acf3-3d29f825590a",
   "metadata": {},
   "outputs": [
    {
     "name": "stdout",
     "output_type": "stream",
     "text": [
      "38382578.0\n"
     ]
    }
   ],
   "source": [
    "#The net total amount of Profit/Losses over the entire period\n",
    "\n",
    "def pnl_sum(dictionary):\n",
    "    \n",
    "    sum = 0\n",
    "    for x in pnl.values():\n",
    "        sum = sum + x\n",
    "    return sum\n",
    "\n",
    "net_total_pnl = round(pnl_sum(pnl),2)\n",
    "print(net_total_pnl)"
   ]
  },
  {
   "cell_type": "code",
   "execution_count": 200,
   "id": "1350f8f6-fdf4-49e0-944f-6c506f2cb283",
   "metadata": {},
   "outputs": [
    {
     "name": "stdout",
     "output_type": "stream",
     "text": [
      "dict_values([867884.0, 984655.0, 322013.0, -69417.0, 310503.0, 522857.0, 1033096.0, 604885.0, -216386.0, 477532.0, 893810.0, -80353.0, 779806.0, -335203.0, 697845.0, 793163.0, 485070.0, 584122.0, 62729.0, 668179.0, 899906.0, 834719.0, 132003.0, 309978.0, -755566.0, 1170593.0, 252788.0, 1151518.0, 817256.0, 570757.0, 506702.0, -1022534.0, 475062.0, 779976.0, 144175.0, 542494.0, 359333.0, 321469.0, 67780.0, 471435.0, 565603.0, 872480.0, 789480.0, 999942.0, -1196225.0, 268997.0, -687986.0, 1150461.0, 682458.0, 617856.0, 824098.0, 581943.0, 132864.0, 448062.0, 689161.0, 800701.0, 1166643.0, 947333.0, 578668.0, 988505.0, 1139715.0, 1029471.0, 687533.0, -524626.0, 158620.0, 87795.0, 423389.0, 840723.0, 568529.0, 332067.0, 989499.0, 778237.0, 650000.0, -1100387.0, -174946.0, 757143.0, 445709.0, 712961.0, -1163797.0, 569899.0, 768450.0, 102685.0, 795914.0, 60988.0, 138230.0, 671099.0])\n",
      "--------\n",
      "dict_keys(['Jan-2010', 'Feb-2010', 'Mar-2010', 'Apr-2010', 'May-2010', 'Jun-2010', 'Jul-2010', 'Aug-2010', 'Sep-2010', 'Oct-2010', 'Nov-2010', 'Dec-2010', 'Jan-2011', 'Feb-2011', 'Mar-2011', 'Apr-2011', 'May-2011', 'Jun-2011', 'Jul-2011', 'Aug-2011', 'Sep-2011', 'Oct-2011', 'Nov-2011', 'Dec-2011', 'Jan-2012', 'Feb-2012', 'Mar-2012', 'Apr-2012', 'May-2012', 'Jun-2012', 'Jul-2012', 'Aug-2012', 'Sep-2012', 'Oct-2012', 'Nov-2012', 'Dec-2012', 'Jan-2013', 'Feb-2013', 'Mar-2013', 'Apr-2013', 'May-2013', 'Jun-2013', 'Jul-2013', 'Aug-2013', 'Sep-2013', 'Oct-2013', 'Nov-2013', 'Dec-2013', 'Jan-2014', 'Feb-2014', 'Mar-2014', 'Apr-2014', 'May-2014', 'Jun-2014', 'Jul-2014', 'Aug-2014', 'Sep-2014', 'Oct-2014', 'Nov-2014', 'Dec-2014', 'Jan-2015', 'Feb-2015', 'Mar-2015', 'Apr-2015', 'May-2015', 'Jun-2015', 'Jul-2015', 'Aug-2015', 'Sep-2015', 'Oct-2015', 'Nov-2015', 'Dec-2015', 'Jan-2016', 'Feb-2016', 'Mar-2016', 'Apr-2016', 'May-2016', 'Jun-2016', 'Jul-2016', 'Aug-2016', 'Sep-2016', 'Oct-2016', 'Nov-2016', 'Dec-2016', 'Jan-2017', 'Feb-2017'])\n",
      "All values list---------\n",
      "\n",
      "[867884.0, 984655.0, 322013.0, -69417.0, 310503.0, 522857.0, 1033096.0, 604885.0, -216386.0, 477532.0, 893810.0, -80353.0, 779806.0, -335203.0, 697845.0, 793163.0, 485070.0, 584122.0, 62729.0, 668179.0, 899906.0, 834719.0, 132003.0, 309978.0, -755566.0, 1170593.0, 252788.0, 1151518.0, 817256.0, 570757.0, 506702.0, -1022534.0, 475062.0, 779976.0, 144175.0, 542494.0, 359333.0, 321469.0, 67780.0, 471435.0, 565603.0, 872480.0, 789480.0, 999942.0, -1196225.0, 268997.0, -687986.0, 1150461.0, 682458.0, 617856.0, 824098.0, 581943.0, 132864.0, 448062.0, 689161.0, 800701.0, 1166643.0, 947333.0, 578668.0, 988505.0, 1139715.0, 1029471.0, 687533.0, -524626.0, 158620.0, 87795.0, 423389.0, 840723.0, 568529.0, 332067.0, 989499.0, 778237.0, 650000.0, -1100387.0, -174946.0, 757143.0, 445709.0, 712961.0, -1163797.0, 569899.0, 768450.0, 102685.0, 795914.0, 60988.0, 138230.0, 671099.0]\n",
      "\n",
      "All keys list---------\n",
      "['Jan-2010', 'Feb-2010', 'Mar-2010', 'Apr-2010', 'May-2010', 'Jun-2010', 'Jul-2010', 'Aug-2010', 'Sep-2010', 'Oct-2010', 'Nov-2010', 'Dec-2010', 'Jan-2011', 'Feb-2011', 'Mar-2011', 'Apr-2011', 'May-2011', 'Jun-2011', 'Jul-2011', 'Aug-2011', 'Sep-2011', 'Oct-2011', 'Nov-2011', 'Dec-2011', 'Jan-2012', 'Feb-2012', 'Mar-2012', 'Apr-2012', 'May-2012', 'Jun-2012', 'Jul-2012', 'Aug-2012', 'Sep-2012', 'Oct-2012', 'Nov-2012', 'Dec-2012', 'Jan-2013', 'Feb-2013', 'Mar-2013', 'Apr-2013', 'May-2013', 'Jun-2013', 'Jul-2013', 'Aug-2013', 'Sep-2013', 'Oct-2013', 'Nov-2013', 'Dec-2013', 'Jan-2014', 'Feb-2014', 'Mar-2014', 'Apr-2014', 'May-2014', 'Jun-2014', 'Jul-2014', 'Aug-2014', 'Sep-2014', 'Oct-2014', 'Nov-2014', 'Dec-2014', 'Jan-2015', 'Feb-2015', 'Mar-2015', 'Apr-2015', 'May-2015', 'Jun-2015', 'Jul-2015', 'Aug-2015', 'Sep-2015', 'Oct-2015', 'Nov-2015', 'Dec-2015', 'Jan-2016', 'Feb-2016', 'Mar-2016', 'Apr-2016', 'May-2016', 'Jun-2016', 'Jul-2016', 'Aug-2016', 'Sep-2016', 'Oct-2016', 'Nov-2016', 'Dec-2016', 'Jan-2017', 'Feb-2017']\n",
      "----\n",
      "----\n",
      "Average changes list: [58385.5, -331321.0, -195715.0, 189960.0, 106177.0, 255119.5, -214105.5, -410635.5, 346959.0, 208139.0, -487081.5, 430079.5, -557504.5, 516524.0, 47659.0, -154046.5, 49526.0, -260696.5, 302725.0, 115863.5, -32593.5, -351358.0, 88987.5, -532772.0, 963079.5, -458902.5, 449365.0, -167131.0, -123249.5, -32027.5, -764618.0, 748798.0, 152457.0, -317900.5, 199159.5, -91580.5, -18932.0, -126844.5, 201827.5, 47084.0, 153438.5, -41500.0, 105231.0, -1098083.5, 732611.0, -478491.5, 919223.5, -234001.5, -32301.0, 103121.0, -121077.5, -224539.5, 157599.0, 120549.5, 55770.0, 182971.0, -109655.0, -184332.5, 204918.5, 75605.0, -55122.0, -170969.0, -606079.5, 341623.0, -35412.5, 167797.0, 208667.0, -136097.0, -118231.0, 328716.0, -105631.0, -64118.5, -875193.5, 462720.5, 466044.5, -155717.0, 133626.0, -938379.0, 866848.0, 99275.5, -332882.5, 346614.5, -367463.0, 38621.0, 266434.5]\n",
      "-2315.12\n"
     ]
    }
   ],
   "source": [
    "#The average of the changes of the PNL over the entire period\n",
    "\n",
    "all_values = pnl.values()\n",
    "all_keys = pnl.keys()\n",
    "print(all_values)\n",
    "print(\"--------\")\n",
    "print(all_keys)\n",
    "all_values_list = []\n",
    "all_keys_list = []\n",
    "\n",
    "# Generate an isolated list of profit/loss values from the pnl dict\n",
    "for x in all_values:\n",
    "    all_values_list.append(x)\n",
    "print(\"All values list---------\")\n",
    "print()\n",
    "print(all_values_list)\n",
    "\n",
    "# Generate an isolated list of all dates from the pnl dict\n",
    "for x in all_keys:\n",
    "    all_keys_list.append(x)\n",
    "print()\n",
    "print(\"All keys list---------\")\n",
    "print(all_keys_list)\n",
    "\n",
    "average_list = []\n",
    "\n",
    "for i in range(1, len(all_values_list)):\n",
    "    diff_b_a = (all_values_list[i] - all_values_list[i-1])/2\n",
    "    average_list.append(diff_b_a)\n",
    "\n",
    "sum_average_total = 0\n",
    "for x in average_list:\n",
    "    sum_average_total += x\n",
    "    \n",
    "print(\"----\")\n",
    "print(\"----\")\n",
    "print(f\"Average changes list: {average_list}\")\n",
    "avg_change_pnl = round(sum_average_total/((pnl_months_count-1)/2),2)\n",
    "print(avg_change_pnl)\n",
    "\n",
    "#pnl_avg = ((pnl.values()[-1] - pnl.values()[0]) / pnl_months_count)"
   ]
  },
  {
   "cell_type": "code",
   "execution_count": 204,
   "id": "c6a39b62-abee-4a71-98dd-bcedcf9c66a3",
   "metadata": {},
   "outputs": [
    {
     "name": "stdout",
     "output_type": "stream",
     "text": [
      "Feb-2012\n",
      "1926159.0\n",
      "Sep-2013\n",
      "Diff List-----\n",
      "[116771.0, -662642.0, -391430.0, 379920.0, 212354.0, 510239.0, -428211.0, -821271.0, 693918.0, 416278.0, -974163.0, 860159.0, -1115009.0, 1033048.0, 95318.0, -308093.0, 99052.0, -521393.0, 605450.0, 231727.0, -65187.0, -702716.0, 177975.0, -1065544.0, 1926159.0, -917805.0, 898730.0, -334262.0, -246499.0, -64055.0, -1529236.0, 1497596.0, 304914.0, -635801.0, 398319.0, -183161.0, -37864.0, -253689.0, 403655.0, 94168.0, 306877.0, -83000.0, 210462.0, -2196167.0, 1465222.0, -956983.0, 1838447.0, -468003.0, -64602.0, 206242.0, -242155.0, -449079.0, 315198.0, 241099.0, 111540.0, 365942.0, -219310.0, -368665.0, 409837.0, 151210.0, -110244.0, -341938.0, -1212159.0, 683246.0, -70825.0, 335594.0, 417334.0, -272194.0, -236462.0, 657432.0, -211262.0, -128237.0, -1750387.0, 925441.0, 932089.0, -311434.0, 267252.0, -1876758.0, 1733696.0, 198551.0, -665765.0, 693229.0, -734926.0, 77242.0, 532869.0]\n",
      "----\n",
      "1926159.0\n",
      "-2196167.0\n"
     ]
    }
   ],
   "source": [
    "#The greatest increase in profits (date and amount) over the entire period\n",
    "\n",
    "diff_list = []\n",
    "\n",
    "max_value = 0\n",
    "min_value = 0\n",
    "max_month_index = 0\n",
    "min_month_index = 0\n",
    "for i in range(1, len(all_values_list)):\n",
    "    diff_b_a = all_values_list[i] - all_values_list[i-1]\n",
    "    diff_list.append(diff_b_a)\n",
    "    if (diff_b_a >= max_value):\n",
    "            max_value = diff_b_a\n",
    "            max_month_index = i\n",
    "    if (diff_b_a <= min_value):\n",
    "            min_value = diff_b_a\n",
    "            min_month_index = i\n",
    "            \n",
    "max_month = all_keys_list[max_month_index]\n",
    "min_month = all_keys_list[min_month_index]\n",
    "print(max_month)\n",
    "print(max_value)\n",
    "print(min_month)\n",
    "            \n",
    "print(\"Diff List-----\")\n",
    "print(diff_list)\n",
    "greatest_increase_profit = max(diff_list)\n",
    "greatest_decrease_profit = min(diff_list)\n",
    "    \n",
    "print(\"----\")\n",
    "print(greatest_increase_profit)\n",
    "print(greatest_decrease_profit)"
   ]
  },
  {
   "cell_type": "code",
   "execution_count": 207,
   "id": "df98a19b-9b25-4e8f-992c-0e73fc3c7dfe",
   "metadata": {},
   "outputs": [
    {
     "name": "stdout",
     "output_type": "stream",
     "text": [
      "Financial Analysis\n",
      "----------------------------\n",
      "Total Months: 86\n",
      "Total: $38382578.0\n",
      "Average Change: $-2315.12\n",
      "Greatest Increase in Profits: Feb-2012 $(1926159.0)\n",
      "Greatest Decrease in Profits: Sep-2013 $(-2196167.0)\n"
     ]
    }
   ],
   "source": [
    "#Resulting Financial Analysis (Summary)\n",
    "\n",
    "print(\"Financial Analysis\")\n",
    "print(\"----------------------------\")\n",
    "print(f\"Total Months: {pnl_months_count}\")\n",
    "print(f\"Total: ${net_total_pnl}\")\n",
    "print(f\"Average Change: ${avg_change_pnl}\")\n",
    "print(f\"Greatest Increase in Profits: {max_month} $({greatest_increase_profit})\")\n",
    "print(f\"Greatest Decrease in Profits: {min_month} $({greatest_decrease_profit})\")"
   ]
  },
  {
   "cell_type": "code",
   "execution_count": null,
   "id": "3c103b4a-a763-4035-80e0-6f5a1b0e8bd0",
   "metadata": {},
   "outputs": [],
   "source": []
  }
 ],
 "metadata": {
  "kernelspec": {
   "display_name": "Python 3 (ipykernel)",
   "language": "python",
   "name": "python3"
  },
  "language_info": {
   "codemirror_mode": {
    "name": "ipython",
    "version": 3
   },
   "file_extension": ".py",
   "mimetype": "text/x-python",
   "name": "python",
   "nbconvert_exporter": "python",
   "pygments_lexer": "ipython3",
   "version": "3.9.12"
  }
 },
 "nbformat": 4,
 "nbformat_minor": 5
}
