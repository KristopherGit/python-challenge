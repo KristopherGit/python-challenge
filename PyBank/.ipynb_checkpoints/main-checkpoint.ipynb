{
 "cells": [
  {
   "cell_type": "code",
   "execution_count": 2,
   "id": "40fe5fcb-842c-4402-ae20-e4fb73d3b158",
   "metadata": {},
   "outputs": [],
   "source": [
    "#Module-2-Challenge\n",
    "#python-challenge"
   ]
  },
  {
   "cell_type": "code",
   "execution_count": 11,
   "id": "4358b402-95a0-4a7d-8cba-e4b66b0dcacf",
   "metadata": {},
   "outputs": [],
   "source": [
    "#Import required modules & classes\n",
    "import os\n",
    "import csv\n",
    "import numpy as pb\n",
    "from pathlib import Path"
   ]
  },
  {
   "cell_type": "code",
   "execution_count": 6,
   "id": "1aad34c5-e89a-41d3-b42c-defadd8d84bf",
   "metadata": {},
   "outputs": [],
   "source": [
    "#Set filepath to .csv\n",
    "file_path = Path(\"../Resources/budget_data.csv\")"
   ]
  },
  {
   "cell_type": "code",
   "execution_count": 41,
   "id": "5168aff2-5fe5-4f07-b8cc-ca84908f952c",
   "metadata": {},
   "outputs": [
    {
     "name": "stdout",
     "output_type": "stream",
     "text": [
      "{}\n"
     ]
    }
   ],
   "source": [
    "#Initialize empty dictionary variable to hold Date and PNL\n",
    "pnl = {}\n",
    "print(pnl)"
   ]
  },
  {
   "cell_type": "code",
   "execution_count": 9,
   "id": "d13db97e-4182-4879-8ffb-c67c2d9449b2",
   "metadata": {},
   "outputs": [],
   "source": [
    "#Open the csv file and print() its contents to test"
   ]
  },
  {
   "cell_type": "code",
   "execution_count": 70,
   "id": "e595d96c-2dfe-4103-8df9-80a83ae76209",
   "metadata": {},
   "outputs": [
    {
     "name": "stdout",
     "output_type": "stream",
     "text": [
      "<class '_io.TextIOWrapper'>\n",
      "<class '_csv.reader'>\n",
      "['Date', 'Profit/Losses'] <----- Header\n",
      "<class 'dict'>\n",
      "<class 'builtin_function_or_method'>\n",
      "<class 'float'>\n",
      "<class 'float'>\n",
      "<class 'float'>\n",
      "<class 'float'>\n",
      "<class 'float'>\n",
      "<class 'float'>\n",
      "<class 'float'>\n",
      "<class 'float'>\n",
      "<class 'float'>\n",
      "<class 'float'>\n",
      "<class 'float'>\n",
      "<class 'float'>\n",
      "<class 'float'>\n",
      "<class 'float'>\n",
      "<class 'float'>\n",
      "<class 'float'>\n",
      "<class 'float'>\n",
      "<class 'float'>\n",
      "<class 'float'>\n",
      "<class 'float'>\n",
      "<class 'float'>\n",
      "<class 'float'>\n",
      "<class 'float'>\n",
      "<class 'float'>\n",
      "<class 'float'>\n",
      "<class 'float'>\n",
      "<class 'float'>\n",
      "<class 'float'>\n",
      "<class 'float'>\n",
      "<class 'float'>\n",
      "<class 'float'>\n",
      "<class 'float'>\n",
      "<class 'float'>\n",
      "<class 'float'>\n",
      "<class 'float'>\n",
      "<class 'float'>\n",
      "<class 'float'>\n",
      "<class 'float'>\n",
      "<class 'float'>\n",
      "<class 'float'>\n",
      "<class 'float'>\n",
      "<class 'float'>\n",
      "<class 'float'>\n",
      "<class 'float'>\n",
      "<class 'float'>\n",
      "<class 'float'>\n",
      "<class 'float'>\n",
      "<class 'float'>\n",
      "<class 'float'>\n",
      "<class 'float'>\n",
      "<class 'float'>\n",
      "<class 'float'>\n",
      "<class 'float'>\n",
      "<class 'float'>\n",
      "<class 'float'>\n",
      "<class 'float'>\n",
      "<class 'float'>\n",
      "<class 'float'>\n",
      "<class 'float'>\n",
      "<class 'float'>\n",
      "<class 'float'>\n",
      "<class 'float'>\n",
      "<class 'float'>\n",
      "<class 'float'>\n",
      "<class 'float'>\n",
      "<class 'float'>\n",
      "<class 'float'>\n",
      "<class 'float'>\n",
      "<class 'float'>\n",
      "<class 'float'>\n",
      "<class 'float'>\n",
      "<class 'float'>\n",
      "<class 'float'>\n",
      "<class 'float'>\n",
      "<class 'float'>\n",
      "<class 'float'>\n",
      "<class 'float'>\n",
      "<class 'float'>\n",
      "<class 'float'>\n",
      "<class 'float'>\n",
      "<class 'float'>\n",
      "<class 'float'>\n",
      "<class 'float'>\n",
      "<class 'float'>\n",
      "<class 'float'>\n",
      "<class 'float'>\n",
      "{'Jan-2010': 867884.0, 'Feb-2010': 984655.0, 'Mar-2010': 322013.0, 'Apr-2010': -69417.0, 'May-2010': 310503.0, 'Jun-2010': 522857.0, 'Jul-2010': 1033096.0, 'Aug-2010': 604885.0, 'Sep-2010': -216386.0, 'Oct-2010': 477532.0, 'Nov-2010': 893810.0, 'Dec-2010': -80353.0, 'Jan-2011': 779806.0, 'Feb-2011': -335203.0, 'Mar-2011': 697845.0, 'Apr-2011': 793163.0, 'May-2011': 485070.0, 'Jun-2011': 584122.0, 'Jul-2011': 62729.0, 'Aug-2011': 668179.0, 'Sep-2011': 899906.0, 'Oct-2011': 834719.0, 'Nov-2011': 132003.0, 'Dec-2011': 309978.0, 'Jan-2012': -755566.0, 'Feb-2012': 1170593.0, 'Mar-2012': 252788.0, 'Apr-2012': 1151518.0, 'May-2012': 817256.0, 'Jun-2012': 570757.0, 'Jul-2012': 506702.0, 'Aug-2012': -1022534.0, 'Sep-2012': 475062.0, 'Oct-2012': 779976.0, 'Nov-2012': 144175.0, 'Dec-2012': 542494.0, 'Jan-2013': 359333.0, 'Feb-2013': 321469.0, 'Mar-2013': 67780.0, 'Apr-2013': 471435.0, 'May-2013': 565603.0, 'Jun-2013': 872480.0, 'Jul-2013': 789480.0, 'Aug-2013': 999942.0, 'Sep-2013': -1196225.0, 'Oct-2013': 268997.0, 'Nov-2013': -687986.0, 'Dec-2013': 1150461.0, 'Jan-2014': 682458.0, 'Feb-2014': 617856.0, 'Mar-2014': 824098.0, 'Apr-2014': 581943.0, 'May-2014': 132864.0, 'Jun-2014': 448062.0, 'Jul-2014': 689161.0, 'Aug-2014': 800701.0, 'Sep-2014': 1166643.0, 'Oct-2014': 947333.0, 'Nov-2014': 578668.0, 'Dec-2014': 988505.0, 'Jan-2015': 1139715.0, 'Feb-2015': 1029471.0, 'Mar-2015': 687533.0, 'Apr-2015': -524626.0, 'May-2015': 158620.0, 'Jun-2015': 87795.0, 'Jul-2015': 423389.0, 'Aug-2015': 840723.0, 'Sep-2015': 568529.0, 'Oct-2015': 332067.0, 'Nov-2015': 989499.0, 'Dec-2015': 778237.0, 'Jan-2016': 650000.0, 'Feb-2016': -1100387.0, 'Mar-2016': -174946.0, 'Apr-2016': 757143.0, 'May-2016': 445709.0, 'Jun-2016': 712961.0, 'Jul-2016': -1163797.0, 'Aug-2016': 569899.0, 'Sep-2016': 768450.0, 'Oct-2016': 102685.0, 'Nov-2016': 795914.0, 'Dec-2016': 60988.0, 'Jan-2017': 138230.0, 'Feb-2017': 671099.0}\n"
     ]
    }
   ],
   "source": [
    "#Open the csv file, print() its content types, and transfer csv data to pnl dictionary as key/value pairs\n",
    "with open(file_path) as csv_file:\n",
    "    print(type(csv_file))\n",
    "    csvreader = csv.reader(csv_file, delimiter=',')\n",
    "    print(type(csvreader))\n",
    "    header = next(csvreader)\n",
    "    print(f\"{header} <----- Header\")\n",
    "    \n",
    "    #Populate the empty pnl dict ref variable with csvreader data\n",
    "    pnl = {rows[0]:rows[1] for rows in csvreader}\n",
    "    \n",
    "    #Convert values from 'string' to 'float' type variables\n",
    "    for k, v in pnl.items():\n",
    "        pnl[k] = float(v)\n",
    "        \n",
    "    print(type(pnl))\n",
    "    print(type(pnl.values))\n",
    "    for i in pnl.values():\n",
    "        print(type(i))\n",
    "    print(pnl)"
   ]
  },
  {
   "cell_type": "code",
   "execution_count": 62,
   "id": "97b80cb7-0b34-4f76-840a-1306f53de7e1",
   "metadata": {
    "tags": []
   },
   "outputs": [
    {
     "name": "stdout",
     "output_type": "stream",
     "text": [
      "86\n"
     ]
    }
   ],
   "source": [
    "#Count the total number of months included in the csv dataset\n",
    "pnl_months_count = len(pnl.keys())\n",
    "print(pnl_months_count)"
   ]
  },
  {
   "cell_type": "code",
   "execution_count": 71,
   "id": "0f620b18-1869-46eb-acf3-3d29f825590a",
   "metadata": {},
   "outputs": [
    {
     "name": "stdout",
     "output_type": "stream",
     "text": [
      "38382578.0\n"
     ]
    }
   ],
   "source": [
    "#The net total amount of Profit/Losses over the entire period\n",
    "\n",
    "def pnl_sum(dictionary):\n",
    "    \n",
    "    sum = 0\n",
    "    for x in pnl.values():\n",
    "        sum = sum + x\n",
    "    return sum\n",
    "\n",
    "net_total_pnl = pnl_sum(pnl)\n",
    "print(net_total_pnl)"
   ]
  },
  {
   "cell_type": "code",
   "execution_count": 26,
   "id": "df98a19b-9b25-4e8f-992c-0e73fc3c7dfe",
   "metadata": {},
   "outputs": [
    {
     "name": "stdout",
     "output_type": "stream",
     "text": [
      "Financial Analysis\n",
      "----------------------------\n",
      "Total Months: 86\n"
     ]
    }
   ],
   "source": [
    "#Resulting Financial Analysis (Summary)\n",
    "print(\"Financial Analysis\")\n",
    "print(\"----------------------------\")\n",
    "print(f\"Total Months: {pnl_months_count}\")\n",
    "print(\"Total: \")\n"
   ]
  },
  {
   "cell_type": "code",
   "execution_count": null,
   "id": "3c103b4a-a763-4035-80e0-6f5a1b0e8bd0",
   "metadata": {},
   "outputs": [],
   "source": []
  }
 ],
 "metadata": {
  "kernelspec": {
   "display_name": "Python 3 (ipykernel)",
   "language": "python",
   "name": "python3"
  },
  "language_info": {
   "codemirror_mode": {
    "name": "ipython",
    "version": 3
   },
   "file_extension": ".py",
   "mimetype": "text/x-python",
   "name": "python",
   "nbconvert_exporter": "python",
   "pygments_lexer": "ipython3",
   "version": "3.9.12"
  }
 },
 "nbformat": 4,
 "nbformat_minor": 5
}
