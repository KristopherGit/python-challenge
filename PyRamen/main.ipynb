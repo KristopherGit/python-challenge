{
 "cells": [
  {
   "cell_type": "code",
   "execution_count": 3,
   "id": "d8a08049-d7fd-4519-856d-d16242665e55",
   "metadata": {},
   "outputs": [],
   "source": [
    "#Module-2-Challenge\n",
    "#python-challenge\n",
    "#PyRamen - Ichiban Ramen"
   ]
  },
  {
   "cell_type": "code",
   "execution_count": 4,
   "id": "71321d73-22db-4e39-82e6-20d4d22f7d46",
   "metadata": {},
   "outputs": [],
   "source": [
    "#Import libraries, modules and dependencies\n",
    "import csv\n",
    "import numpy as pb\n",
    "import pandas as pd\n",
    "from pathlib import Path\n",
    "from collections import Counter()"
   ]
  },
  {
   "cell_type": "code",
   "execution_count": 5,
   "id": "4cb39021-afe5-4a33-b250-30c977e07255",
   "metadata": {},
   "outputs": [],
   "source": [
    "#Set filepaths to appropriate .csv\n",
    "file_path_menu = Path(\"../Resources/menu_data.csv\")\n",
    "file_path_sales = Path(\"../Resources/sales_data.csv\")"
   ]
  },
  {
   "cell_type": "code",
   "execution_count": 6,
   "id": "e459b4c7-8f21-404c-8913-940ec3313b2d",
   "metadata": {},
   "outputs": [],
   "source": [
    "#Initialize a separate menu list variable to hold the contents of menu_data.csv and menu list\n",
    "menu = []\n",
    "menu_list = []"
   ]
  },
  {
   "cell_type": "code",
   "execution_count": 225,
   "id": "f28a4e57-a930-4617-aca2-f907df00bf99",
   "metadata": {},
   "outputs": [
    {
     "name": "stdout",
     "output_type": "stream",
     "text": [
      "['item', 'category', 'description', 'price', 'cost'] <--- Header\n",
      "[['edamame', 'appetizers', 'boiled soybeans, maldon sea salt', 4.0, 1], ['house salad', 'appetizers', 'mixed greens, cherry tomatoes, cucumber, house ginger dressing', 4.0, 2], ['cucumber sunomono salad', 'appetizers', 'cucumber, ponzu dressing, pickled ginger sproud, sesame seeds', 5.0, 2], ['hiyashi wakame seaweed salad', 'appetizers', 'sweet soy-marinated wakame seaweed threads, pickled ginger sprout, sesame seeds', 5.0, 2], ['agedashi tofu', 'appetizers', 'tempura battered tofu, katsuobushi, tsuyu broth, scallions', 5.0, 2], ['hiyayakko tofu', 'appetizers', 'chilled soft tofu, house shoyu, katsuobushi, ginger, scallions', 5.0, 2], ['pork floss bao', 'appetizers', 'two steamed buns, minced lean slow braised niman, ranch pork belly, cucumbers, sriracha mayo', 4.0, 2], ['kakuni bao', 'appetizers', 'two steamed buns, chopped fatty slow braised niman ranch pork belly, cucumbers, house bao sauce', 6.0, 3], ['edamame fried gyoza (vegan)', 'appetizers', 'six crispy fried edamame and cabbage pot stickers; ponzu rayu dipping sauce', 6.0, 3], ['fried gyoza', 'appetizers', 'six cripsy fried pork and vegetable pot stickers; ponzu rayu dipping sauce', 6.0, 6], ['takoyaki', 'appetizers', 'six octopus-filled fried fritters, kewpie mayo, okonomi sauce, aonori, katsuobushi, nori', 6.0, 3], ['rock shrimp tempura', 'appetizers', 'deep fried tempura battered rock shrimp, sriracha mayo, nisume sauce, aonori, scallions', 6.0, 3], ['soft-shell crab tempura', 'appetizers', 'single deep fried soft-shell crab, tsuyu dipping broth', 6.0, 3], ['ebi katsu shrimp bao', 'appetizers', 'two steamed buns, panko-crusted fried shrimp patties, yuzu-kosho mayo, aonori, scallions', 6.0, 3], ['nagomi shoyu', 'entree', 'shoyu seasoned clear double stock (organic chick broth + house dashi); slow braised niman ranch pork belly, hanjuku tamago, nori, menma, scallions', 11.0, 5], ['shio ramen', 'entree', 'sea salt seasoned clear double stock (organic chicken broth + house dashi); slow braised niman ranch pork belly, hanjuku tamago, kikurage, nori, scallions', 11.0, 5], ['spicy miso ramen', 'entree', 'house togarashi miso blend + niman ranch pork bone stock; slow braised niman ranch pork belly, hanjuku tamago, kikurage, nori, scallions', 12.0, 5], ['vegetarian spicy miso', 'entree', 'house togarashi miso blend + vegan dashi; tempura fried tofu, sweet corn, edamame, kikurage, nori, scallions; organic soy milk upon request', 12.0, 5], ['miso crab ramen', 'entree', 'house miso crab blend + vegan dashi; slow braised niman ranch pork belly, crab meat, hanjuku tamago, kikurage, nori, scallions', 12.0, 6], ['soft-shell miso crab ramen', 'entree', 'house miso crab blend + vegan dashi; fried whole soft-shell crab, hanjuku tamago, kikurage, nori, scallions', 14.0, 7], ['tori paitan ramen', 'entree', 'rich, shoyu seasoned double stock (organic chicken broth + house dashi); slow braised niman ranch pork belly, hanuku tamago, kikurage, nori, scllaions', 13.0, 6], ['tonkotsu ramen', 'entree', 'rich, shoyi seasoned niman ranch pork bone stock; slow braised niman ranch pork belly, hanjuku tamago, kikurage, nori, spring radish, scallions', 13.0, 6], ['burnt garlic tonkotsu ramen', 'entree', 'rich, shoyi and burnt garlic seasoned niman ranch pork bone stock; slow braised niman ranch pork belly, hanjuku tamago, kikurage, sweet corn, nori, scallions', 14.0, 6], ['vegetarian curry + king trumpet mushroom ramen', 'entree', 'house curry blend + vegan dashi; fried king trumpet mushroom, tempura fried tofu, mung bean sprouts, kikurage, nori, scallions', 13.0, 7], ['truffle butter ramen', 'entree', 'rich, shoyu seasoned niman ranch prok bone stock; truffle compound butter, slow braised niman ranch pork belly, kikurage, sweet corn, nori, scallions', 14.0, 7], ['green tea', 'drinks', 'green tea', 2.5, 1], ['coke', 'drinks', 'Coca Cola soda', 2.0, 1], ['black sesame ice cream', 'desserts', 'house-made black sesame ice cream, valrhona chocolate threads, complimentary hojicha', 5.0, 2], ['matcha ice cream', 'desserts', 'house-made matcha ice cream, white chocolate pearls; complimentary hojicha', 5.0, 2], ['mango mochi ice cream', 'desserts', 'two rice-cake bonbons filled with strawberry ice cream; complimentary hojicha', 5.0, 2], ['strawberry mochi ice cream', 'desserts', 'two rice-cake bonbons filled with strawberry ice cream; complimentary hojicha', 5.0, 2], ['black sesame creme brulee', 'desserts', 'house made black sesame infused creme brulee; complimentary hojicha', 6.0, 3]]\n"
     ]
    }
   ],
   "source": [
    "#Open the menu_data csv file, read it and transfer contents to the newly created menu list\n",
    "with open(file_path_menu) as csv_file:\n",
    "    csvreader = csv.reader(csv_file, delimiter=',')\n",
    "    header_menu = next(csvreader)\n",
    "#Print header out as test to confirm csvreader read file correctly\n",
    "    print(f\"{header_menu} <--- Header\")\n",
    "#Populate the menu list with the csvreader data read from the menu_data.csv file\n",
    "    menu = list(csvreader)\n",
    "\n",
    "for row in menu: \n",
    "    row[3] = float(row[3])\n",
    "    row[4] = int(row[4])\n",
    "print(menu)"
   ]
  },
  {
   "cell_type": "code",
   "execution_count": 53,
   "id": "781bcb96-ce98-4ce9-afc0-3389538fc23f",
   "metadata": {},
   "outputs": [],
   "source": [
    "#Initialize a separate sales data list variable to hold the contents of sales_data.csv & sales dict\n",
    "sales = []\n",
    "sales_list = [] #See line 23 below in next block"
   ]
  },
  {
   "cell_type": "code",
   "execution_count": 227,
   "id": "cc63b6e9-d347-4ff0-8f36-d0a80c9a0e23",
   "metadata": {},
   "outputs": [
    {
     "name": "stdout",
     "output_type": "stream",
     "text": [
      "['Line_Item_ID', 'Date', 'Credit_Card_Number', 'Quantity', 'Menu_Item'] <--- Header\n",
      "\n",
      "                                         Menu_item  Quantity\n",
      "0                      burnt garlic tonkotsu ramen      9070\n",
      "1                                  miso crab ramen      8890\n",
      "2                                     nagomi shoyu      9132\n",
      "3                                       shio ramen      9180\n",
      "4                       soft-shell miso crab ramen      9130\n",
      "5                                 spicy miso ramen      9238\n",
      "6                                   tonkotsu ramen      9288\n",
      "7                                tori paitan ramen      9156\n",
      "8                             truffle butter ramen      8982\n",
      "9   vegetarian curry + king trumpet mushroom ramen      8824\n",
      "10                           vegetarian spicy miso      9216\n",
      "Aggregated menu items from sales_data list displayed as a total of their annual sales:\n",
      "--------------------\n",
      "[['burnt garlic tonkotsu ramen', 9070], ['miso crab ramen', 8890], ['nagomi shoyu', 9132], ['shio ramen', 9180], ['soft-shell miso crab ramen', 9130], ['spicy miso ramen', 9238], ['tonkotsu ramen', 9288], ['tori paitan ramen', 9156], ['truffle butter ramen', 8982], ['vegetarian curry + king trumpet mushroom ramen', 8824], ['vegetarian spicy miso', 9216]]\n",
      "--------------------\n",
      "                                              item  price  cost\n",
      "0                                          edamame    4.0     1\n",
      "1                                      house salad    4.0     2\n",
      "2                          cucumber sunomono salad    5.0     2\n",
      "3                     hiyashi wakame seaweed salad    5.0     2\n",
      "4                                    agedashi tofu    5.0     2\n",
      "5                                   hiyayakko tofu    5.0     2\n",
      "6                                   pork floss bao    4.0     2\n",
      "7                                       kakuni bao    6.0     3\n",
      "8                      edamame fried gyoza (vegan)    6.0     3\n",
      "9                                      fried gyoza    6.0     6\n",
      "10                                        takoyaki    6.0     3\n",
      "11                             rock shrimp tempura    6.0     3\n",
      "12                         soft-shell crab tempura    6.0     3\n",
      "13                            ebi katsu shrimp bao    6.0     3\n",
      "14                                    nagomi shoyu   11.0     5\n",
      "15                                      shio ramen   11.0     5\n",
      "16                                spicy miso ramen   12.0     5\n",
      "17                           vegetarian spicy miso   12.0     5\n",
      "18                                 miso crab ramen   12.0     6\n",
      "19                      soft-shell miso crab ramen   14.0     7\n",
      "20                               tori paitan ramen   13.0     6\n",
      "21                                  tonkotsu ramen   13.0     6\n",
      "22                     burnt garlic tonkotsu ramen   14.0     6\n",
      "23  vegetarian curry + king trumpet mushroom ramen   13.0     7\n",
      "24                            truffle butter ramen   14.0     7\n",
      "25                                       green tea    2.5     1\n",
      "26                                            coke    2.0     1\n",
      "27                          black sesame ice cream    5.0     2\n",
      "28                                matcha ice cream    5.0     2\n",
      "29                           mango mochi ice cream    5.0     2\n",
      "30                      strawberry mochi ice cream    5.0     2\n",
      "31                       black sesame creme brulee    6.0     3\n",
      "Menu List\n",
      "[['edamame', 4.0, 1], ['house salad', 4.0, 2], ['cucumber sunomono salad', 5.0, 2], ['hiyashi wakame seaweed salad', 5.0, 2], ['agedashi tofu', 5.0, 2], ['hiyayakko tofu', 5.0, 2], ['pork floss bao', 4.0, 2], ['kakuni bao', 6.0, 3], ['edamame fried gyoza (vegan)', 6.0, 3], ['fried gyoza', 6.0, 6], ['takoyaki', 6.0, 3], ['rock shrimp tempura', 6.0, 3], ['soft-shell crab tempura', 6.0, 3], ['ebi katsu shrimp bao', 6.0, 3], ['nagomi shoyu', 11.0, 5], ['shio ramen', 11.0, 5], ['spicy miso ramen', 12.0, 5], ['vegetarian spicy miso', 12.0, 5], ['miso crab ramen', 12.0, 6], ['soft-shell miso crab ramen', 14.0, 7], ['tori paitan ramen', 13.0, 6], ['tonkotsu ramen', 13.0, 6], ['burnt garlic tonkotsu ramen', 14.0, 6], ['vegetarian curry + king trumpet mushroom ramen', 13.0, 7], ['truffle butter ramen', 14.0, 7], ['green tea', 2.5, 1], ['coke', 2.0, 1], ['black sesame ice cream', 5.0, 2], ['matcha ice cream', 5.0, 2], ['mango mochi ice cream', 5.0, 2], ['strawberry mochi ice cream', 5.0, 2], ['black sesame creme brulee', 6.0, 3]]\n"
     ]
    }
   ],
   "source": [
    "#Open the sales_data csv file, read it and transfer contents to the newly created sales list\n",
    "with open(file_path_sales) as csv_file:\n",
    "    csvreader = csv.reader(csv_file, delimiter=',')\n",
    "    header_sales = next(csvreader)\n",
    "        \n",
    "#Print header out as test to confirm csvreader read file correctly\n",
    "    print(f\"{header_sales} <--- Header\")\n",
    "    print()\n",
    "#Populate the sales list with the csvreader data from the sales_data.csv file\n",
    "    sales = list(csvreader)\n",
    "\n",
    "for row in sales:\n",
    "    row[3] = int(row[3])\n",
    "    Quantity = row[3]\n",
    "    Menu_Item = row[4]\n",
    "    #Quantity = int(Quantity)\n",
    "\n",
    "# 1.) Convert the sales list temporarily to a dataframe, drop non-essential columns, and run groupby to aggregate Menu_item's\n",
    "df_sales = pd.DataFrame.from_records(sales, exclude=['Line_item_ID', 'Date', 'Credit_Card_Number'], columns=['Line_item_ID', 'Date', 'Credit_Card_Number', 'Quantity', 'Menu_item'])\n",
    "df_sales.head(5)\n",
    "df_sales = df_sales[['Menu_item', 'Quantity']]\n",
    "df_sales.head(5)\n",
    "df_sales = df_sales.groupby('Menu_item')['Quantity'].sum()\n",
    "df_sales = df_sales.reset_index()\n",
    "print(df_sales)\n",
    "\n",
    "# Convert dataframe of filtered & aggregated sales_data to a list that was previously defined & empty (from above)\n",
    "sales_list = df_sales.values.tolist()\n",
    "\n",
    "print(\"Aggregated menu items from sales_data list displayed as a total of their annual sales:\")\n",
    "print(\"--------------------\")\n",
    "print(sales_list)\n",
    "print(\"--------------------\")\n",
    "\n",
    "# 2.) Convert the menu list to a dataframe \n",
    "df_menu = pd.DataFrame.from_records(menu, exclude=['category', 'description'], columns=['item', 'category', 'description', 'price', 'cost'])\n",
    "print(df_menu)\n",
    "menu_list = df_menu.values.tolist()\n",
    "print(\"Menu List\")\n",
    "print(menu_list)\n",
    "\n"
   ]
  },
  {
   "cell_type": "code",
   "execution_count": 327,
   "id": "b9109adb-bdcb-4897-b71a-40b1df6d1ad2",
   "metadata": {},
   "outputs": [
    {
     "name": "stdout",
     "output_type": "stream",
     "text": [
      "{'burnt garlic tonkotsu ramen': {'01-count': 9070, '02-revenue': 126980.0, '03-cogs': 54420, '04-profit': 72560.0}, 'miso crab ramen': {'01-count': 8890, '02-revenue': 106680.0, '03-cogs': 53340, '04-profit': 53340.0}, 'nagomi shoyu': {'01-count': 9132, '02-revenue': 100452.0, '03-cogs': 45660, '04-profit': 54792.0}, 'shio ramen': {'01-count': 9180, '02-revenue': 100980.0, '03-cogs': 45900, '04-profit': 55080.0}, 'soft-shell miso crab ramen': {'01-count': 9130, '02-revenue': 127820.0, '03-cogs': 63910, '04-profit': 63910.0}, 'spicy miso ramen': {'01-count': 9238, '02-revenue': 110856.0, '03-cogs': 46190, '04-profit': 64666.0}, 'tonkotsu ramen': {'01-count': 9288, '02-revenue': 120744.0, '03-cogs': 55728, '04-profit': 65016.0}, 'tori paitan ramen': {'01-count': 9156, '02-revenue': 119028.0, '03-cogs': 54936, '04-profit': 64092.0}, 'truffle butter ramen': {'01-count': 8982, '02-revenue': 125748.0, '03-cogs': 62874, '04-profit': 62874.0}, 'vegetarian curry + king trumpet mushroom ramen': {'01-count': 8824, '02-revenue': 114712.0, '03-cogs': 61768, '04-profit': 52944.0}, 'vegetarian spicy miso': {'01-count': 9216, '02-revenue': 110592.0, '03-cogs': 46080, '04-profit': 64512.0}}\n",
      "\n",
      "\n",
      "burnt garlic tonkotsu ramen\n",
      "miso crab ramen\n",
      "edamame\n",
      "9070\n"
     ]
    }
   ],
   "source": [
    "#Initializing dictionary 'report' to hold future aggregated per-product results\n",
    "report = dict()\n",
    "\n",
    "for k, v in sales_list:\n",
    "    report[k] = {\n",
    "    \"01-count\": v,\n",
    "    \"02-revenue\": 0,\n",
    "    \"03-cogs\": 0,\n",
    "    \"04-profit\": 0,\n",
    "    }\n",
    "#print(report)\n",
    "\n",
    "#Iterate through sales & menu data to capture the items that match and, subsequently contribute to annual sales\n",
    "\n",
    "i=0\n",
    "j=0\n",
    "\n",
    "for i in range(len(sales_list)):\n",
    "    \n",
    "    sales_item = sales_list[i][0]\n",
    "    \n",
    "    for j in range(len(menu_list)):\n",
    "        \n",
    "        item = menu_list[j][0]\n",
    "        \n",
    "    \n",
    "        if (sales_item == item):\n",
    "            \n",
    "                price = menu_list[j][1]\n",
    "                cost = menu_list[j][2]\n",
    "                quantity = sales_list[i][1]\n",
    "            \n",
    "                report[sales_item][\"01-count\"]\n",
    "                report[sales_item][\"02-revenue\"]=price*quantity\n",
    "                report[sales_item][\"03-cogs\"]=cost*quantity\n",
    "                report[sales_item][\"04-profit\"]=(price-cost)*quantity\n",
    "        j = j + 1\n",
    "              \n",
    "    i = i +1\n",
    "\n",
    "    \n",
    "print(report)\n",
    "\n",
    "print()\n",
    "print()\n",
    "#test variable print\n",
    "sales_item = sales_list[index_sales_list][0]\n",
    "print(sales_item)\n",
    "print(sales_list[1][0])\n",
    "print(menu_list[0][0])\n",
    "print(sales_list[0][1])"
   ]
  },
  {
   "cell_type": "code",
   "execution_count": null,
   "id": "8518bcf2-1a10-4a00-9f20-ecf2b1a576be",
   "metadata": {},
   "outputs": [],
   "source": []
  }
 ],
 "metadata": {
  "kernelspec": {
   "display_name": "Python 3 (ipykernel)",
   "language": "python",
   "name": "python3"
  },
  "language_info": {
   "codemirror_mode": {
    "name": "ipython",
    "version": 3
   },
   "file_extension": ".py",
   "mimetype": "text/x-python",
   "name": "python",
   "nbconvert_exporter": "python",
   "pygments_lexer": "ipython3",
   "version": "3.9.12"
  }
 },
 "nbformat": 4,
 "nbformat_minor": 5
}
