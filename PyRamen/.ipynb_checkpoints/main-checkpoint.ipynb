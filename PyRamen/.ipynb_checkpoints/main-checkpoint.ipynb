{
 "cells": [
  {
   "cell_type": "code",
   "execution_count": 3,
   "id": "d8a08049-d7fd-4519-856d-d16242665e55",
   "metadata": {},
   "outputs": [],
   "source": [
    "#Module-2-Challenge\n",
    "#python-challenge\n",
    "#PyRamen - Ichiban Ramen"
   ]
  },
  {
   "cell_type": "code",
   "execution_count": 4,
   "id": "71321d73-22db-4e39-82e6-20d4d22f7d46",
   "metadata": {},
   "outputs": [],
   "source": [
    "#Import libraries, modules and dependencies\n",
    "import csv\n",
    "import numpy as pb\n",
    "import pandas as pd\n",
    "from pathlib import Path\n",
    "from collections import Counter()"
   ]
  },
  {
   "cell_type": "code",
   "execution_count": 5,
   "id": "4cb39021-afe5-4a33-b250-30c977e07255",
   "metadata": {},
   "outputs": [],
   "source": [
    "#Set filepaths to appropriate .csv\n",
    "file_path_menu = Path(\"../Resources/menu_data.csv\")\n",
    "file_path_sales = Path(\"../Resources/sales_data.csv\")"
   ]
  },
  {
   "cell_type": "code",
   "execution_count": 6,
   "id": "e459b4c7-8f21-404c-8913-940ec3313b2d",
   "metadata": {},
   "outputs": [],
   "source": [
    "#Initialize a separate menu list variable to hold the contents of menu_data.csv and menu dict\n",
    "menu = []\n",
    "menu_dict = dict()"
   ]
  },
  {
   "cell_type": "code",
   "execution_count": 7,
   "id": "f28a4e57-a930-4617-aca2-f907df00bf99",
   "metadata": {},
   "outputs": [
    {
     "name": "stdout",
     "output_type": "stream",
     "text": [
      "['item', 'category', 'description', 'price', 'cost'] <--- Header\n"
     ]
    }
   ],
   "source": [
    "#Open the menu_data csv file, read it and transfer contents to the newly created menu list\n",
    "with open(file_path_menu) as csv_file:\n",
    "    csvreader = csv.reader(csv_file, delimiter=',')\n",
    "    header_menu = next(csvreader)\n",
    "#Print header out as test to confirm csvreader read file correctly\n",
    "    print(f\"{header_menu} <--- Header\")\n",
    "#Populate the menu list with the csvreader data read from the menu_data.csv file\n",
    "    menu = list(csvreader)\n",
    "    #print(menu)"
   ]
  },
  {
   "cell_type": "code",
   "execution_count": 53,
   "id": "781bcb96-ce98-4ce9-afc0-3389538fc23f",
   "metadata": {},
   "outputs": [],
   "source": [
    "#Initialize a separate sales data list variable to hold the contents of sales_data.csv & sales dict\n",
    "sales = []\n",
    "sales_list = [] #See line 23 below in next block"
   ]
  },
  {
   "cell_type": "code",
   "execution_count": 174,
   "id": "cc63b6e9-d347-4ff0-8f36-d0a80c9a0e23",
   "metadata": {},
   "outputs": [
    {
     "name": "stdout",
     "output_type": "stream",
     "text": [
      "['Line_Item_ID', 'Date', 'Credit_Card_Number', 'Quantity', 'Menu_Item'] <--- Header\n",
      "\n",
      "Aggregated menu items from sales_data list displayed as a total of their annual sales:\n",
      "--------------------\n",
      "[['burnt garlic tonkotsu ramen', 9070], ['miso crab ramen', 8890], ['nagomi shoyu', 9132], ['shio ramen', 9180], ['soft-shell miso crab ramen', 9130], ['spicy miso ramen', 9238], ['tonkotsu ramen', 9288], ['tori paitan ramen', 9156], ['truffle butter ramen', 8982], ['vegetarian curry + king trumpet mushroom ramen', 8824], ['vegetarian spicy miso', 9216]]\n"
     ]
    }
   ],
   "source": [
    "#Open the sales_data csv file, read it and transfer contents to the newly created sales list\n",
    "with open(file_path_sales) as csv_file:\n",
    "    csvreader = csv.reader(csv_file, delimiter=',')\n",
    "    header_sales = next(csvreader)\n",
    "        \n",
    "#Print header out as test to confirm csvreader read file correctly\n",
    "    print(f\"{header_sales} <--- Header\")\n",
    "    print()\n",
    "#Populate the sales list with the csvreader data from the sales_data.csv file\n",
    "    sales = list(csvreader)\n",
    "\n",
    "for row in sales:\n",
    "    row[3] = int(row[3])\n",
    "    Quantity = row[3]\n",
    "    Menu_Item = row[4]\n",
    "    #Quantity = int(Quantity)\n",
    "\n",
    "# 1.) Convert the sales list temporarily to a dataframe, drop non-essential columns, and run groupby to aggregate Menu_item's\n",
    "df_sales = pd.DataFrame.from_records(sales, exclude=['Line_item_ID', 'Date', 'Credit_Card_Number'], columns=['Line_item_ID', 'Date', 'Credit_Card_Number', 'Quantity', 'Menu_item'])\n",
    "df_sales.head(5)\n",
    "df_sales = df_sales[['Menu_item', 'Quantity']]\n",
    "df_sales.head(5)\n",
    "df_sales = df_sales.groupby('Menu_item')['Quantity'].sum()\n",
    "df_sales = df_sales.reset_index()\n",
    "\n",
    "# Convert dataframe of filtered & aggregated sales_data to a list that was previously defined & empty (from above)\n",
    "sales_list = df_sales.values.tolist()\n",
    "\n",
    "print(\"Aggregated menu items from sales_data list displayed as a total of their annual sales:\")\n",
    "print(\"--------------------\")\n",
    "print(sales_list)\n",
    "\n",
    "# 2.) Convert the menu list to a dataframe \n",
    "\n",
    "\n"
   ]
  },
  {
   "cell_type": "code",
   "execution_count": 179,
   "id": "b9109adb-bdcb-4897-b71a-40b1df6d1ad2",
   "metadata": {},
   "outputs": [
    {
     "name": "stdout",
     "output_type": "stream",
     "text": [
      "{'burnt garlic tonkotsu ramen': {'01-count': 9070, '02-revenue': 0, '03-cogs': 0, '04-profit': 0}, 'miso crab ramen': {'01-count': 8890, '02-revenue': 0, '03-cogs': 0, '04-profit': 0}, 'nagomi shoyu': {'01-count': 9132, '02-revenue': 0, '03-cogs': 0, '04-profit': 0}, 'shio ramen': {'01-count': 9180, '02-revenue': 0, '03-cogs': 0, '04-profit': 0}, 'soft-shell miso crab ramen': {'01-count': 9130, '02-revenue': 0, '03-cogs': 0, '04-profit': 0}, 'spicy miso ramen': {'01-count': 9238, '02-revenue': 0, '03-cogs': 0, '04-profit': 0}, 'tonkotsu ramen': {'01-count': 9288, '02-revenue': 0, '03-cogs': 0, '04-profit': 0}, 'tori paitan ramen': {'01-count': 9156, '02-revenue': 0, '03-cogs': 0, '04-profit': 0}, 'truffle butter ramen': {'01-count': 8982, '02-revenue': 0, '03-cogs': 0, '04-profit': 0}, 'vegetarian curry + king trumpet mushroom ramen': {'01-count': 8824, '02-revenue': 0, '03-cogs': 0, '04-profit': 0}, 'vegetarian spicy miso': {'01-count': 9216, '02-revenue': 0, '03-cogs': 0, '04-profit': 0}}\n"
     ]
    }
   ],
   "source": [
    "#Initializing dictionary 'report' to hold future aggregated per-product results\n",
    "report = dict()\n",
    "\n",
    "for k, v in sales_list:\n",
    "    report[k] = {\n",
    "    \"01-count\": v,\n",
    "    \"02-revenue\": 0,\n",
    "    \"03-cogs\": 0,\n",
    "    \"04-profit\": 0,\n",
    "    }\n",
    "print(report)\n",
    "\n",
    "\n"
   ]
  },
  {
   "cell_type": "code",
   "execution_count": null,
   "id": "8518bcf2-1a10-4a00-9f20-ecf2b1a576be",
   "metadata": {},
   "outputs": [],
   "source": []
  }
 ],
 "metadata": {
  "kernelspec": {
   "display_name": "Python 3 (ipykernel)",
   "language": "python",
   "name": "python3"
  },
  "language_info": {
   "codemirror_mode": {
    "name": "ipython",
    "version": 3
   },
   "file_extension": ".py",
   "mimetype": "text/x-python",
   "name": "python",
   "nbconvert_exporter": "python",
   "pygments_lexer": "ipython3",
   "version": "3.9.12"
  }
 },
 "nbformat": 4,
 "nbformat_minor": 5
}
